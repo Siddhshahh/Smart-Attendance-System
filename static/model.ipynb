{
 "cells": [
  {
   "cell_type": "code",
   "execution_count": 1,
   "id": "12bfa533",
   "metadata": {},
   "outputs": [],
   "source": [
    "import cv2\n",
    "import os\n",
    "import numpy as np\n",
    "from sklearn.neighbors import KNeighborsClassifier\n",
    "import pandas as pd\n",
    "import joblib"
   ]
  },
  {
   "cell_type": "code",
   "execution_count": 2,
   "id": "ee4b5f30",
   "metadata": {},
   "outputs": [],
   "source": [
    "def train_model():\n",
    "    faces = []\n",
    "    labels = []\n",
    "    userlist = os.listdir('ExtraPhotos')\n",
    "    for user in userlist:\n",
    "        for imgname in os.listdir(f'ExtraPhotos/{user}'):\n",
    "            img = cv2.imread(f'static/ExtraPhotos/{user}/{imgname}')\n",
    "            resized_face = cv2.resize(img, (100, 100))\n",
    "            faces.append(resized_face.ravel())\n",
    "            labels.append(user)\n",
    "    faces = np.array(faces)\n",
    "    knn = KNeighborsClassifier(n_neighbors=5)\n",
    "    knn.fit(faces, labels)\n",
    "    joblib.dump(knn, 'face_recognition_model2.pkl')"
   ]
  },
  {
   "cell_type": "code",
   "execution_count": null,
   "id": "dec9e282",
   "metadata": {},
   "outputs": [],
   "source": []
  }
 ],
 "metadata": {
  "kernelspec": {
   "display_name": "Python 3 (ipykernel)",
   "language": "python",
   "name": "python3"
  },
  "language_info": {
   "codemirror_mode": {
    "name": "ipython",
    "version": 3
   },
   "file_extension": ".py",
   "mimetype": "text/x-python",
   "name": "python",
   "nbconvert_exporter": "python",
   "pygments_lexer": "ipython3",
   "version": "3.10.9"
  }
 },
 "nbformat": 4,
 "nbformat_minor": 5
}
